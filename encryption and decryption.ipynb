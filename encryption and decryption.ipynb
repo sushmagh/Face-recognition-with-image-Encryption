{
 "cells": [
  {
   "cell_type": "code",
   "execution_count": 1,
   "metadata": {},
   "outputs": [
    {
     "name": "stdout",
     "output_type": "stream",
     "text": [
      "C:\\Users\\Noman\\Desktop\\ifscrtrial1\n"
     ]
    },
    {
     "data": {
      "text/plain": [
       "'\\nfin = open(path, \\'rb\\')\\n\\n     \\n\\n    # storing image data in variable \"image\"\\n\\n    image = fin.read()\\n\\n    fin.close()\\n'"
      ]
     },
     "execution_count": 1,
     "metadata": {},
     "output_type": "execute_result"
    }
   ],
   "source": [
    "import os\n",
    "print(os.getcwd())\n",
    "os.chdir(\"C:/Users/Noman/Desktop/ifscrtrial1/Deep-Learning-Face-Recognition-master/dataset/train/numan/\")\n",
    "#fin = open(\"C:/Users/Noman/Desktop/ifscrtrial1/Deep-Learning-Face-Recognition-master/dataset/train/numan/1.jpg\", 'rb')\n",
    "'''\n",
    "fin = open(path, 'rb')\n",
    "\n",
    "     \n",
    "\n",
    "    # storing image data in variable \"image\"\n",
    "\n",
    "    image = fin.read()\n",
    "\n",
    "    fin.close()\n",
    "'''"
   ]
  },
  {
   "cell_type": "code",
   "execution_count": 4,
   "metadata": {},
   "outputs": [
    {
     "ename": "FileExistsError",
     "evalue": "[WinError 183] Cannot create a file when that file already exists: '100.jpg' -> '2.jpg'",
     "output_type": "error",
     "traceback": [
      "\u001b[1;31m---------------------------------------------------------------------------\u001b[0m",
      "\u001b[1;31mFileExistsError\u001b[0m                           Traceback (most recent call last)",
      "\u001b[1;32m<ipython-input-4-7680a9fb774d>\u001b[0m in \u001b[0;36m<module>\u001b[1;34m\u001b[0m\n\u001b[0;32m      1\u001b[0m \u001b[0mcount\u001b[0m\u001b[1;33m=\u001b[0m\u001b[1;36m0\u001b[0m\u001b[1;33m\u001b[0m\u001b[1;33m\u001b[0m\u001b[0m\n\u001b[0;32m      2\u001b[0m \u001b[1;32mfor\u001b[0m \u001b[0mi\u001b[0m \u001b[1;32min\u001b[0m \u001b[0mos\u001b[0m\u001b[1;33m.\u001b[0m\u001b[0mlistdir\u001b[0m\u001b[1;33m(\u001b[0m\u001b[1;33m)\u001b[0m\u001b[1;33m:\u001b[0m\u001b[1;33m\u001b[0m\u001b[1;33m\u001b[0m\u001b[0m\n\u001b[1;32m----> 3\u001b[1;33m     \u001b[0mos\u001b[0m\u001b[1;33m.\u001b[0m\u001b[0mrename\u001b[0m\u001b[1;33m(\u001b[0m\u001b[0mi\u001b[0m\u001b[1;33m,\u001b[0m\u001b[0mstr\u001b[0m\u001b[1;33m(\u001b[0m\u001b[0mcount\u001b[0m\u001b[1;33m)\u001b[0m\u001b[1;33m+\u001b[0m\u001b[1;34m'.'\u001b[0m \u001b[1;33m+\u001b[0m\u001b[0mi\u001b[0m\u001b[1;33m.\u001b[0m\u001b[0msplit\u001b[0m\u001b[1;33m(\u001b[0m\u001b[1;34m'.'\u001b[0m\u001b[1;33m)\u001b[0m\u001b[1;33m[\u001b[0m\u001b[1;33m-\u001b[0m\u001b[1;36m1\u001b[0m\u001b[1;33m]\u001b[0m\u001b[1;33m)\u001b[0m\u001b[1;33m\u001b[0m\u001b[1;33m\u001b[0m\u001b[0m\n\u001b[0m\u001b[0;32m      4\u001b[0m     \u001b[0mcount\u001b[0m\u001b[1;33m+=\u001b[0m\u001b[1;36m1\u001b[0m\u001b[1;33m\u001b[0m\u001b[1;33m\u001b[0m\u001b[0m\n",
      "\u001b[1;31mFileExistsError\u001b[0m: [WinError 183] Cannot create a file when that file already exists: '100.jpg' -> '2.jpg'"
     ]
    }
   ],
   "source": [
    "count=0\n",
    "for i in os.listdir():\n",
    "    os.rename(i,str(count)+'.' +i.split('.')[-1])\n",
    "    count+=1"
   ]
  },
  {
   "cell_type": "code",
   "execution_count": 2,
   "metadata": {},
   "outputs": [
    {
     "name": "stdout",
     "output_type": "stream",
     "text": [
      "Enter Key for encryption of Image :numan\n"
     ]
    }
   ],
   "source": [
    "import os\n",
    "# try block to handle exception\n",
    "\n",
    "try:\n",
    "\n",
    "    # take path of image as a input\n",
    "\n",
    "    path=\"C:/Users/Noman/Desktop/ifscrtrial1/Deep-Learning-Face-Recognition-master/elon/numan\"\n",
    "    # taking encryption key as input\n",
    "\n",
    "    key = input('Enter Key for encryption of Image :')\n",
    "    # open file for reading purpose\n",
    "    os.chdir(path)\n",
    "    def encrypt(path):\n",
    "        os.chdir(path)\n",
    "        for i in os.listdir():\n",
    "            if('.jpg' in i):\n",
    "                f=open(i,'rb')\n",
    "                image = f.read()\n",
    "                f.close()\n",
    "                image = bytearray(image)\n",
    "                for x in key:\n",
    "                    for index, values in enumerate(image):\n",
    "                        image[index] = ~(~values ^ ord(x))\n",
    "                f=open(i,'wb')\n",
    "                f.write(image)\n",
    "                f.close()\n",
    "            else:\n",
    "                encrypt(path+\"/\"+i)\n",
    "    for i in os.listdir():\n",
    "        if('.jpg' in i):\n",
    "            encrypt(path)\n",
    "        else:\n",
    "            encrypt(path+\"/\"+i)            \n",
    "except Exception as e:\n",
    "    print('Error caught : ', e)"
   ]
  },
  {
   "cell_type": "code",
   "execution_count": 1,
   "metadata": {},
   "outputs": [
    {
     "name": "stdout",
     "output_type": "stream",
     "text": [
      "Enter Key for decryption of Image :numan\n"
     ]
    }
   ],
   "source": [
    "\n",
    "import os\n",
    "# try block to handle exception\n",
    "\n",
    "try:\n",
    "\n",
    "    # take path of image as a input\n",
    "\n",
    "    path=\"C:/Users/Noman/Desktop/ifscrtrial1/Deep-Learning-Face-Recognition-master/elon\"\n",
    "    # taking encryption key as input\n",
    "\n",
    "    key = input('Enter Key for decryption of Image :')\n",
    "    # open file for reading purpose\n",
    "    os.chdir(path)\n",
    "    def decrypt(path):\n",
    "        os.chdir(path)\n",
    "        for i in os.listdir():\n",
    "            if('.jpg' in i):\n",
    "                f=open(i,'rb')\n",
    "                image = f.read()\n",
    "                f.close()\n",
    "                image = bytearray(image)\n",
    "                for x in key:\n",
    "                    for index, values in enumerate(image):\n",
    "                        image[index] = ~(~values ^ ord(x)) \n",
    "                f=open(i,'wb')\n",
    "                f.write(image)\n",
    "                f.close()\n",
    "            else:\n",
    "                decrypt(path+\"/\"+i)\n",
    "    for i in os.listdir():\n",
    "        if('.jpg' in i):\n",
    "            decryt(path)\n",
    "        else:\n",
    "            decrypt(path+\"/\"+i)            \n",
    "except Exception as e:\n",
    "    print('Error caught : ', e)"
   ]
  },
  {
   "cell_type": "code",
   "execution_count": null,
   "metadata": {},
   "outputs": [],
   "source": []
  }
 ],
 "metadata": {
  "kernelspec": {
   "display_name": "Python 3",
   "language": "python",
   "name": "python3"
  },
  "language_info": {
   "codemirror_mode": {
    "name": "ipython",
    "version": 3
   },
   "file_extension": ".py",
   "mimetype": "text/x-python",
   "name": "python",
   "nbconvert_exporter": "python",
   "pygments_lexer": "ipython3",
   "version": "3.8.5"
  }
 },
 "nbformat": 4,
 "nbformat_minor": 4
}
